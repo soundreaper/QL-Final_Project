{
 "cells": [
  {
   "cell_type": "markdown",
   "metadata": {},
   "source": [
    "## Final Project: Linear Regression\n",
    "\n",
    "- We want to present the relationship between (two) variables linearly\n",
    "\n",
    "- For example, recall the running distance and drinking water \n",
    "\n",
    "- We are interested to obtain the best line describing by `y_pred[i] = w_1 x[i] +w_0` that maps running distance to drinking water\n",
    "\n",
    "- Below, list `x` represents running distance in miles and list `y` represents the drinking water in litres "
   ]
  },
  {
   "cell_type": "code",
   "execution_count": 2,
   "metadata": {},
   "outputs": [
    {
     "data": {
      "text/plain": [
       "Text(0, 0.5, 'Water Drinks (Litre)')"
      ]
     },
     "execution_count": 2,
     "metadata": {},
     "output_type": "execute_result"
    }
   ],
   "source": [
    "import numpy as np\n",
    "import matplotlib.pyplot as plt\n",
    "\n",
    "# Running Distance in Mile\n",
    "x = np.array([3.3,4.4,5.5,6.71,6.93,4.168,9.779,6.182,7.59,2.167,\n",
    "                         7.042,10.791,5.313,7.997,5.654,9.27,3.1])\n",
    "\n",
    "# Water Drinks in Litre\n",
    "y = np.array([1.7,2.76,2.09,3.19,1.694,1.573,3.366,2.596,2.53,1.221,\n",
    "                         2.827,3.465,1.65,2.904,2.42,2.94,1.3])\n",
    "\n",
    "plt.scatter(x, y)\n",
    "plt.xlabel('Running Distance (Mile)')\n",
    "plt.ylabel('Water Drinks (Litre)')"
   ]
  },
  {
   "cell_type": "markdown",
   "metadata": {},
   "source": [
    "## In order to obtain the best line, we should define error first\n",
    "\n",
    "- For linear relationship, mean-square-error (MSE) represents is it a good line (good model) or not \n",
    "\n",
    "- $y[i]$ and $y_{pred}[i]$ are i-th element of list `y` and list `y_pred` respectively where `y_pred[i] = w_1 x[i] +w_0`\n",
    "\n",
    "- Define error as: $E[i] = y_{pred}[i] - y[i]$\n",
    "\n",
    "- Define mean-square-error as: $MSE = \\frac{1}{N} \\sum_{i=0}^{N-1} E[i]^2$\n",
    "\n",
    "- Also mean-square-error is equal to: $MSE = \\frac{1}{N} \\sum_{i=0}^{N-1} (y_{pred}[i] - y[i])^2$ \n",
    "\n",
    "- The parameter $N$ is: $N = len(y)$"
   ]
  },
  {
   "cell_type": "markdown",
   "metadata": {},
   "source": [
    "### Question 1: Obtain the MSE for the following two lines:\n",
    "\n",
    "1- `y_pred[i] = 0.7*x[i] + 0.3`\n",
    "\n",
    "2- `y_pred[i] = 0.25163494*x[i] + 0.79880123`\n",
    "\n",
    "Hint: Your function take four input arguments: 1- y, 2- x, 3- slope, 4-intercept"
   ]
  },
  {
   "cell_type": "code",
   "execution_count": 3,
   "metadata": {},
   "outputs": [
    {
     "name": "stdout",
     "output_type": "stream",
     "text": [
      "6.518593101764703\n",
      "0.15385767404191164\n"
     ]
    }
   ],
   "source": [
    "def min_sq_error(y, x, w1, w0):\n",
    "    y_pred = (w1*x)+w0\n",
    "    sum_squared_error = sum((y_pred-y)**2)\n",
    "    N = len(y)\n",
    "    mse = sum_squared_error/N\n",
    "    return mse\n",
    "\n",
    "print(min_sq_error(y, x, 0.7, 0.3))\n",
    "print(min_sq_error(y, x, 0.25163494, 0.79880123))"
   ]
  },
  {
   "cell_type": "markdown",
   "metadata": {},
   "source": [
    "## Question 2: Obtain the best line (Coding is not required)\n",
    "\n",
    "- In order the best line, we want to obtain which slope ($w_1$) and intercept ($w_0$) minimize the mean-square-error (MSE)\n",
    "\n",
    "- Mathematically:\n",
    "\n",
    "    - $MSE = \\frac{1}{N} \\sum_{i=0}^{N-1} (y_{pred}[i] - y[i])^2$ \n",
    "\n",
    "    - $MSE = f(w_1, w_0)= \\frac{1}{N} \\sum_{i=0}^{N-1} (w_1x[i] + w_0 - y[i])^2$ \n",
    "\n",
    "The steps in order to obtain the best line: \n",
    "\n",
    "1- Compute: \n",
    "\n",
    "$\\frac{\\partial MSE}{\\partial w_1}$ \n",
    "\n",
    "and\n",
    "\n",
    "$\\frac{\\partial MSE}{\\partial w_0}$\n",
    "\n",
    "2- then obtain $w_1$ and $w_0$ such that:\n",
    "\n",
    "\n",
    "$\\frac{\\partial MSE}{\\partial w_1} = 0$ \n",
    "\n",
    "and\n",
    "\n",
    "$\\frac{\\partial MSE}{\\partial w_0} = 0$\n",
    "\n",
    "- For this part, you need to use partial derivative and you use derivative table\n",
    "\n",
    "- For this part, write down the steps and the solution on a paper "
   ]
  },
  {
   "cell_type": "markdown",
   "metadata": {},
   "source": [
    "## Question 3: Write a code to return the slope and intercept with given list x and y\n",
    "\n",
    "- After taking partial derivative of mean-squared-error and setting to zero for both $w_1$ and $w_0$ ($\\frac{\\partial MSE}{\\partial w_1} = 0$ $\\frac{\\partial MSE}{\\partial w_0} = 0$)\n",
    "\n",
    "- $w_1$ = is obtained from list x and list y\n",
    "- $w_0 $ = is obtained from $w_1$, list x and list y\n",
    "- Write a Python function that return $w_1$ and $w_0$ from your calculation on the paper "
   ]
  },
  {
   "cell_type": "code",
   "execution_count": 4,
   "metadata": {},
   "outputs": [
    {
     "name": "stdout",
     "output_type": "stream",
     "text": [
      "(0.25163494428355315, 0.7988012261753947)\n"
     ]
    }
   ],
   "source": [
    "def slope_intercept_LR(x, y):\n",
    "    w1 = (np.mean(x*y)-(np.mean(x)*np.mean(y)))/(np.mean(x**2)-(np.mean(x))**2)\n",
    "    w0 = np.mean(y)-(np.mean(x)*((np.mean(x*y)-(np.mean(x)*np.mean(y)))/(np.mean(x**2)-(np.mean(x))**2)))\n",
    "    return w1, w0\n",
    "\n",
    "print(slope_intercept_LR(x, y))"
   ]
  },
  {
   "cell_type": "markdown",
   "metadata": {},
   "source": [
    "## Question 4: After obtain the best line, obtain the variance and mean of error\n",
    "\n",
    "- In Question 3, we have obtained the best line\n",
    "- So, we can error list which its element is: $E[i] = y_{pred}[i] - y[i]$\n",
    "- Write a function that calculate variance and mean of list $E$\n",
    "- Plot the distribution of the error for optimal line"
   ]
  },
  {
   "cell_type": "code",
   "execution_count": 10,
   "metadata": {},
   "outputs": [
    {
     "name": "stdout",
     "output_type": "stream",
     "text": [
      "The calculated mean is:  2.366235294117647\n",
      "The calculated variance is:  0.3471050941241765\n",
      "\n",
      "The given mean is:  2.366235294117647\n",
      "The given variance is:  0.3471050941241765\n"
     ]
    }
   ],
   "source": [
    "def y_pred_list(w1,w0):\n",
    "    return (w1*x)+w0\n",
    "\n",
    "def mean_of_LR(x, y):\n",
    "    w1, w0 = slope_intercept_LR(x, y)\n",
    "    y_pred = y_pred_list(w1,w0)\n",
    "    return(sum(y_pred)/len(y_pred))\n",
    "\n",
    "def var_of_LR(x,y):\n",
    "    w1, w0 = slope_intercept_LR(x, y)\n",
    "    mean = mean_of_LR(x,y)\n",
    "    y_pred = y_pred_list(w1,w0)\n",
    "    variance = np.mean((y_pred-mean)**2)\n",
    "    return variance\n",
    "\n",
    "def _error(y_pred, y):\n",
    "    return [y1 - y0 for y1, y0 in zip(y_pred, y)]\n",
    "\n",
    "print('The calculated mean is: ', mean_of_LR(x,y))\n",
    "print('The calculated variance is: ', var_of_LR(x,y))\n",
    "print()\n",
    "\n",
    "w1, w0 = slope_intercept_LR(x, y)\n",
    "y_pred = (w1*x)+w0\n",
    "given_mean = np.mean(y_pred)\n",
    "given_var = np.var(y_pred)\n",
    "print('The given mean is: ', given_mean)\n",
    "print('The given variance is: ', given_var)"
   ]
  },
  {
   "cell_type": "code",
   "execution_count": 12,
   "metadata": {},
   "outputs": [
    {
     "data": {
      "text/plain": [
       "<matplotlib.axes._subplots.AxesSubplot at 0x121e9a610>"
      ]
     },
     "execution_count": 12,
     "metadata": {},
     "output_type": "execute_result"
    },
    {
     "data": {
      "image/png": "[encoded data removed]",
      "text/plain": [
       "<Figure size 432x288 with 1 Axes>"
      ]
     },
     "metadata": {
      "needs_background": "light"
     },
     "output_type": "display_data"
    }
   ],
   "source": [
    "import seaborn as sns\n",
    "\n",
    "w1, w0 = slope_intercept_LR(x, y)\n",
    "error = _error(y_pred_list(w1, w0), y)\n",
    "sns.distplot(error, hist=True, kde=True, bins=4)"
   ]
  },
  {
   "cell_type": "markdown",
   "metadata": {},
   "source": [
    "## Question 5: (Optional but Bonus point) In almost all applications, we update the slope and intercept through iteration\n",
    "\n",
    "- Instead of putting the $\\frac{\\partial MSE}{\\partial w_1} = 0$ $\\frac{\\partial MSE}{\\partial w_0} = 0$\n",
    "    - Initialize the $w_1$ and $w_0$ with arbitrary value, then update them by following Gradient Updating Rule:\n",
    "    - $w_1 = w_1 - step*\\frac{\\partial MSE}{\\partial w_1}$\n",
    "    - $w_0 = w_0 - step*\\frac{\\partial MSE}{\\partial w_0}$"
   ]
  },
  {
   "cell_type": "code",
   "execution_count": 7,
   "metadata": {},
   "outputs": [
    {
     "name": "stdout",
     "output_type": "stream",
     "text": [
      "0.2518472021724522\n",
      "0.7972964492220543\n"
     ]
    }
   ],
   "source": [
    "import numpy as np\n",
    "\n",
    "w_0 = np.random.randn()\n",
    "w_1 = np.random.randn()\n",
    "step = 0.01\n",
    "epoch = 5000\n",
    "for _ in range(epoch):\n",
    "    w_1 = w_1 - step*(w_1*np.mean([i**2 for i in x]) +w_0*np.mean(x)-np.mean([a*b for a,b in zip(x,y)]))\n",
    "    w_0 = w_0 - step*(w_1*np.mean(x)-np.mean(y)+w_0)\n",
    "print(w_1)\n",
    "print(w_0)"
   ]
  },
  {
   "cell_type": "code",
   "execution_count": 8,
   "metadata": {},
   "outputs": [
    {
     "name": "stdout",
     "output_type": "stream",
     "text": [
      "LinregressResult(slope=0.25163494428355404, intercept=0.7988012261753894, rvalue=0.8323917528894436, pvalue=3.391952640710616e-05, stderr=0.0432568020417479)\n"
     ]
    }
   ],
   "source": [
    "from scipy import stats\n",
    "\n",
    "print(stats.linregress(x, y))"
   ]
  }
 ],
 "metadata": {
  "kernelspec": {
   "display_name": "Python 3",
   "language": "python",
   "name": "python3"
  },
  "language_info": {
   "codemirror_mode": {
    "name": "ipython",
    "version": 3
   },
   "file_extension": ".py",
   "mimetype": "text/x-python",
   "name": "python",
   "nbconvert_exporter": "python",
   "pygments_lexer": "ipython3",
   "version": "3.7.4"
  }
 },
 "nbformat": 4,
 "nbformat_minor": 2
}
